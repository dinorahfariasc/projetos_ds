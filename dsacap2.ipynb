{
 "cells": [
  {
   "cell_type": "markdown",
   "id": "45a65cbd-18f5-4241-9ba5-ee77503b2e07",
   "metadata": {},
   "source": [
    "## dsa exercicios cap 2 "
   ]
  },
  {
   "cell_type": "code",
   "execution_count": 11,
   "id": "e1a194f4-e8ac-458c-ba73-d6b5a8448307",
   "metadata": {},
   "outputs": [
    {
     "name": "stdout",
     "output_type": "stream",
     "text": [
      "[1, 2, 3, 4, 5, 6, 7, 8, 9, 10]\n"
     ]
    }
   ],
   "source": [
    "# Exercício 1 - Imprima na tela os números de 1 a 10. Use uma lista para armazenar os números.\n",
    "lista = [1,2,3,4,5,6,7,8,9,10]\n",
    "print(lista)"
   ]
  },
  {
   "cell_type": "code",
   "execution_count": 12,
   "id": "a6b87e4b-60e0-4d0f-b3d6-938a4adde1c4",
   "metadata": {},
   "outputs": [
    {
     "name": "stdout",
     "output_type": "stream",
     "text": [
      "['red velvet', 'loona', 'aespa', 'stayc', 'twice']\n"
     ]
    }
   ],
   "source": [
    "# Exercício 2 - Crie uma lista de 5 objetos e imprima na tela\n",
    "girlsgroups = [\"red velvet\",\"loona\",\"aespa\",\"stayc\",\"twice\"]\n",
    "print(girlsgroups)"
   ]
  },
  {
   "cell_type": "code",
   "execution_count": 14,
   "id": "9ae95459-37dc-4f80-8ea3-8f93e0b66b49",
   "metadata": {},
   "outputs": [
    {
     "name": "stdout",
     "output_type": "stream",
     "text": [
      "melhor grupo: red velvet\n"
     ]
    }
   ],
   "source": [
    "# Exercício 3 - Crie duas strings e concatene as duas em uma terceira string\n",
    "grupo =\"red velvet\" \n",
    "melhor = \"melhor grupo: \"\n",
    "melhorgurpo = melhor + grupo\n",
    "print(melhorgurpo)"
   ]
  },
  {
   "cell_type": "code",
   "execution_count": 15,
   "id": "e1f89c2e-bc3e-43b9-b88e-28bbb259a089",
   "metadata": {},
   "outputs": [
    {
     "data": {
      "text/plain": [
       "3"
      ]
     },
     "execution_count": 15,
     "metadata": {},
     "output_type": "execute_result"
    }
   ],
   "source": [
    "# Exercício 4 - Crie uma tupla com os seguintes elementos: 1, 2, 2, 3, 4, 4, 4, 5 e depois utilize a função count do \n",
    "# objeto tupla para verificar quantas vezes o número 4 aparece na tupla\n",
    "\n",
    "tupla = (1,2,2,3,4,4,4,5)\n",
    "tupla.count(4)"
   ]
  },
  {
   "cell_type": "code",
   "execution_count": 16,
   "id": "b61f84c0-a2d8-42ff-bb47-7ee67dd99eb1",
   "metadata": {},
   "outputs": [
    {
     "name": "stdout",
     "output_type": "stream",
     "text": [
      "{}\n"
     ]
    }
   ],
   "source": [
    "# Exercício 5 - Crie um dicionário vazio e imprima na tela\n",
    "dic = {}\n",
    "print (dic)"
   ]
  },
  {
   "cell_type": "code",
   "execution_count": 17,
   "id": "da099054-752e-41ee-9995-dfc0d3029c86",
   "metadata": {},
   "outputs": [
    {
     "name": "stdout",
     "output_type": "stream",
     "text": [
      "{'red velvet': 'seulgi', 'loona': 'kim lip', 'aespa': 'ningning'}\n"
     ]
    }
   ],
   "source": [
    "# Exercício 6 - Crie um dicionário com 3 chaves e 3 valores e imprima na tela\n",
    "\n",
    "utts = {\"red velvet\": \"seulgi\",\n",
    "       \"loona\": \"kim lip\",\n",
    "       \"aespa\": \"ningning\"}\n",
    "print (utts)"
   ]
  },
  {
   "cell_type": "code",
   "execution_count": 19,
   "id": "763902a8-9f55-40da-aee2-8d12a14d5e45",
   "metadata": {},
   "outputs": [
    {
     "name": "stdout",
     "output_type": "stream",
     "text": [
      "{'red velvet': 'seulgi', 'loona': 'kim lip', 'aespa': 'ningning', 'stayc': 'isa'}\n"
     ]
    }
   ],
   "source": [
    "# Exercício 7 - Adicione mais um elemento ao dicionário criado no exercício anterior e imprima na tela\n",
    "utts[\"stayc\"] = \"isa\"\n",
    "\n",
    "print (utts)"
   ]
  },
  {
   "cell_type": "code",
   "execution_count": 21,
   "id": "b29fe778-0ecf-4e74-b769-ded4395eb503",
   "metadata": {},
   "outputs": [
    {
     "name": "stdout",
     "output_type": "stream",
     "text": [
      "{'seulgi': [2020, 2021], 'kim lip': [2020, 2021], 'ningning': [2021], 'isa': [2020, 2021]}\n"
     ]
    }
   ],
   "source": [
    "# Exercício 8 - Crie um dicionário com 3 chaves e 3 valores. Um dos valores deve ser uma lista de 2 elementos numéricos. \n",
    "# Imprima o dicionário na tela.\n",
    "\n",
    "anos= {\"seulgi\": [2020,2021],\n",
    "      \"kim lip\": [2020,2021],\n",
    "      \"ningning\": [2021],\n",
    "      \"isa\": [2020,2021]}\n",
    "\n",
    "print(anos)"
   ]
  },
  {
   "cell_type": "code",
   "execution_count": 24,
   "id": "cf4e3112-e58c-448e-b5f3-cba17938c4ad",
   "metadata": {},
   "outputs": [
    {
     "name": "stdout",
     "output_type": "stream",
     "text": [
      "['stream red velvet', ('loona', 2017), {'stayc': 2020, 'aespa': 2020}, 1.012014]\n"
     ]
    }
   ],
   "source": [
    "# Exercício 9 - Crie uma lista de 4 elementos. O primeiro elemento deve ser uma string, \n",
    "# o segundo uma tupla de 2 elementos, o terceiro um dcionário com 2 chaves e 2 valores e \n",
    "# o quarto elemento um valor do tipo float.\n",
    "# Imprima a lista na tela.\n",
    "\n",
    "lista = [\"stream red velvet\",(\"loona\",2017),{\"stayc\":2020,\"aespa\":2020},01.012014]\n",
    "print(lista)"
   ]
  },
  {
   "cell_type": "code",
   "execution_count": 27,
   "id": "a4aca086-1282-45a7-9cd7-fe19fa91aa09",
   "metadata": {},
   "outputs": [
    {
     "name": "stdout",
     "output_type": "stream",
     "text": [
      "Cientista de Dados\n"
     ]
    }
   ],
   "source": [
    "# Exercício 10 - Considere a string abaixo. Imprima na tela apenas os caracteres da posição 1 a 18.\n",
    "frase = 'Cientista de Dados é o profissional mais sexy do século XXI'\n",
    "print (frase[0:18])"
   ]
  }
 ],
 "metadata": {
  "kernelspec": {
   "display_name": "Python 3 (ipykernel)",
   "language": "python",
   "name": "python3"
  },
  "language_info": {
   "codemirror_mode": {
    "name": "ipython",
    "version": 3
   },
   "file_extension": ".py",
   "mimetype": "text/x-python",
   "name": "python",
   "nbconvert_exporter": "python",
   "pygments_lexer": "ipython3",
   "version": "3.9.7"
  }
 },
 "nbformat": 4,
 "nbformat_minor": 5
}
