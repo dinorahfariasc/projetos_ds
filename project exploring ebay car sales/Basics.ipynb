{
 "cells": [
  {
   "cell_type": "markdown",
   "metadata": {
    "collapsed": true
   },
   "source": [
    "# Guided Project: Exploring ebay Car Sales Data\n",
    "\n",
    "\n",
    "in this guided project, im gonna work with dataset of used cars from eBay Kleinanzeigen, a classifieds section of the German eBay website.\n",
    "\n",
    "you can find the dataset [here](https://data.world/data-society/used-cars-data).\n",
    "\n",
    "the aim of thid project is to clean data and analyze the included used car listings. \n",
    "\n",
    "has made a few modifications from the original dataset:\n",
    "* We sampled 50,000 data points from the full dataset, to ensure your code runs quickly in our hosted environment\n",
    "* We dirtied the dataset a bit to more closely resemble what you would expect from a scraped dataset (the version uploaded to Kaggle was cleaned to be easier to work with)\n",
    "\n",
    "#### objetivo\n",
    "o proposito desse projeto é por em pratica conceita que eu parendi sobre a limpeza e análise de dados.\n"
   ]
  },
  {
   "cell_type": "markdown",
   "metadata": {},
   "source": [
    "### mais informacoes sobre o dataset \n",
    "o dicionario dos dados é disposto dos seguintes dados:\n",
    "\n",
    "* `dateCrawled` - When this ad was first crawled. All field-values are taken from this date.\n",
    "* `name` - Name of the car.\n",
    "* `seller` - Whether the seller is private or a dealer.\n",
    "* `offerType` - The type of listing\n",
    "* `price` - The price on the ad to sell the car.\n",
    "* `abtest` - Whether the listing is included in an A/B test.\n",
    "* `vehicleType` - Tipo de Veículo.\n",
    "* `yearOfRegistration` - The year in which the car was first registered.\n",
    "* `gearbox` - The transmission type.\n",
    "* `powerPS` - The power of the car in PS.\n",
    "* `model` - The car model name.\n",
    "* `kilometer` - How many kilometers the car has driven.\n",
    "* `monthOfRegistration` - The month in which the car was first registered.\n",
    "* `fuelType` - What type of fuel the car uses.\n",
    "* `brand` - The brand of the car.\n",
    "* `notRepairedDamage` - If the car has a damage which is not yet repaired.\n",
    "* `dateCreated` - The date on which the eBay listing was created.\n",
    "* `nrOfPictures` - The number of pictures in the ad.\n",
    "* `postalCode` - The postal code for the location of the vehicle.\n",
    "* `lastSeenOnline` - When the crawler saw this ad last online."
   ]
  },
  {
   "cell_type": "code",
   "execution_count": null,
   "metadata": {},
   "outputs": [],
   "source": [
    "import pandas as pd\n",
    "import numpy as np\n",
    "\n",
    "autos = pd.read_csv(\"autos.csv\", encoding=\"Latin-1\")"
   ]
  },
  {
   "cell_type": "code",
   "execution_count": null,
   "metadata": {},
   "outputs": [],
   "source": [
    "autos"
   ]
  },
  {
   "cell_type": "code",
   "execution_count": null,
   "metadata": {},
   "outputs": [],
   "source": [
    "autos.info()\n",
    "autos.head()"
   ]
  },
  {
   "cell_type": "markdown",
   "metadata": {},
   "source": [
    "no total temos 50000 entradas e 20 colunas, podemos ver que 5 colunas estao sem valores.\n"
   ]
  },
  {
   "cell_type": "markdown",
   "metadata": {},
   "source": [
    "# Data cleaning"
   ]
  },
  {
   "cell_type": "markdown",
   "metadata": {},
   "source": [
    "## convertendo nome das colunas\n",
    "\n",
    "iremos converter as colunas da forma camelcase para snake case.\n",
    "\n",
    "tambem iremos renomear algumas colunas de um jeito mais descritivo.\n",
    "* `Registration` to `registration_year`\n",
    "* `monthOfRegistration` to `registration_month`\n",
    "* `notRepairedDamage` to `unrepaired_damage`\n",
    "* `dateCreated` to `ad_created`    "
   ]
  },
  {
   "cell_type": "code",
   "execution_count": null,
   "metadata": {},
   "outputs": [],
   "source": [
    "print(autos.columns)"
   ]
  },
  {
   "cell_type": "code",
   "execution_count": null,
   "metadata": {},
   "outputs": [],
   "source": [
    "autos.columns = ['date_crawled', 'name', 'seller', 'offer_type', 'price', 'abtest',\n",
    "       'vehicle_type', 'registration_year', 'gear_box', 'power_ps', 'model',\n",
    "       'odometer', 'registration_month', 'fuel_type', 'brand',\n",
    "       'unrepaired_damage', 'ad_created', 'nr_of_pictures', 'postal_code',\n",
    "       'last_seen']\n",
    "autos.head()"
   ]
  },
  {
   "cell_type": "markdown",
   "metadata": {},
   "source": [
    "## renomeando palavras em alemão\n",
    "\n",
    "iremos renomear os valores das colunas: `veichle_type`,`gear_box`,`fuel_type` e `unrepaired_damage`."
   ]
  },
  {
   "cell_type": "code",
   "execution_count": null,
   "metadata": {},
   "outputs": [],
   "source": [
    "autos[\"vehicle_type\"].unique()"
   ]
  },
  {
   "cell_type": "code",
   "execution_count": null,
   "metadata": {},
   "outputs": [],
   "source": [
    "autos[\"gear_box\"].unique()"
   ]
  },
  {
   "cell_type": "code",
   "execution_count": null,
   "metadata": {},
   "outputs": [],
   "source": [
    "autos[\"fuel_type\"].unique()"
   ]
  },
  {
   "cell_type": "code",
   "execution_count": null,
   "metadata": {},
   "outputs": [],
   "source": [
    "autos[\"unrepaired_damage\"].unique()"
   ]
  },
  {
   "cell_type": "code",
   "execution_count": null,
   "metadata": {},
   "outputs": [],
   "source": [
    "translate={\"kleinwagen\":\"mini_car\",\n",
    "           \"kombi\":\"estate car\",\n",
    "          \"cabrio\":\"convertible\",\n",
    "          \"andere\":\"other\",\n",
    "           'elektro' : \"electric\",\n",
    "        'benzin' : 'petrol',\n",
    "        'manuell' : \"manual\", \n",
    "        'automatik' : \"automatic\",\n",
    "        \"bus\" : \"bus\",\n",
    "        \"limousine\" : \"limousine\",\n",
    "                 \"coupe\":\"coupe\",\n",
    "                 \"suv\" : \"suv\",\n",
    "                 \"lpg\" : \"lpg\",\n",
    "                 \"diesel\" : \"diesel\",\n",
    "                 \"cng\" : \"cng\",\n",
    "                 \"hybrid\": \"hybrid\",\n",
    "                 \"Unknown\" : \"Unknown\",\n",
    "                 \"nein\" : \"no\",\n",
    "                 \"ja\" : \"yes\",}\n",
    "\n",
    "colunas = [\"vehicle_type\",\"gear_box\",\"fuel_type\",\"unrepaired_damage\"]"
   ]
  },
  {
   "cell_type": "code",
   "execution_count": null,
   "metadata": {},
   "outputs": [],
   "source": [
    "for x in colunas:\n",
    "    autos[x] = autos[x].map(translate)\n",
    "    \n",
    "\n",
    "#replace nan values with \"Unknown\"\n",
    "for c in colunas:\n",
    "    autos.loc[autos[c].isnull(), autos[c]] =  \"Unknown\""
   ]
  },
  {
   "cell_type": "code",
   "execution_count": null,
   "metadata": {},
   "outputs": [],
   "source": [
    "autos[\"gear_box\"].unique()"
   ]
  },
  {
   "cell_type": "code",
   "execution_count": null,
   "metadata": {},
   "outputs": [],
   "source": [
    "autos"
   ]
  },
  {
   "cell_type": "markdown",
   "metadata": {},
   "source": [
    "## convertendo datas"
   ]
  },
  {
   "cell_type": "code",
   "execution_count": null,
   "metadata": {},
   "outputs": [],
   "source": [
    "autos"
   ]
  },
  {
   "cell_type": "code",
   "execution_count": null,
   "metadata": {},
   "outputs": [],
   "source": []
  },
  {
   "cell_type": "code",
   "execution_count": null,
   "metadata": {
    "scrolled": true
   },
   "outputs": [],
   "source": [
    "autos.describe(include=\"all\")"
   ]
  },
  {
   "cell_type": "code",
   "execution_count": null,
   "metadata": {},
   "outputs": [],
   "source": [
    "autos.info()"
   ]
  },
  {
   "cell_type": "markdown",
   "metadata": {},
   "source": [
    "## exploração inicial \n",
    "\n",
    "as colunas `seller` e `offer_type` possuem apenas dois valores quais apenas um de cada coluna se repetem apenas uma vez.\n",
    "\n",
    "na coluna `registration_year` temos o valor 0 que nao condiz quando os meses vao de 1 a 12. \n",
    "\n",
    "algumas colunas estao como texto quando o ideal seria int ou float por exemplo: `price` e `odometer`\n",
    "\n",
    "`nr_of_pictures` todos os valores são 0."
   ]
  },
  {
   "cell_type": "markdown",
   "metadata": {},
   "source": [
    "# dropping colunas\n",
    "\n",
    "`nr_of_pictures`, `seller` e `offer_type` nao possuem relevancia e serao descartadas.\n"
   ]
  },
  {
   "cell_type": "code",
   "execution_count": null,
   "metadata": {},
   "outputs": [],
   "source": [
    "autos = autos.drop([\"nr_of_pictures\",\"seller\",\"offer_type\"], axis=1)\n",
    "autos.columns"
   ]
  },
  {
   "cell_type": "markdown",
   "metadata": {},
   "source": [
    "# convertendo `price`, `odometer` para `int` e deletar caracteres não númericos\n",
    "\n",
    "vamos deletar caracteres não númericos das colunas `price ` e `odometer`\n",
    "\n",
    "depois o data type de cada um dessas colunas vai ser mudado para `int`\n",
    "\n",
    "para melhor analize a coluna `odometer` vai ser renomeada como `odomer_km`"
   ]
  },
  {
   "cell_type": "code",
   "execution_count": null,
   "metadata": {},
   "outputs": [],
   "source": [
    "prices = [] \n",
    "\n",
    "for each in autos[\"price\"]:\n",
    "    each = each.replace(\"$\",\"\")\n",
    "    each = each.replace(\",\",\"\")\n",
    "    prices.append(each)\n",
    "\n",
    "autos[\"price\"] = prices\n",
    "autos[\"price\"] = autos[\"price\"].astype(int)\n",
    "\n",
    "autos[\"price\"].head()"
   ]
  },
  {
   "cell_type": "code",
   "execution_count": null,
   "metadata": {},
   "outputs": [],
   "source": [
    "odometer = []\n",
    "for each in autos[\"odometer\"]:\n",
    "    each = each.replace(\"km\",\"\")\n",
    "    each = each.replace(\",\",\"\")\n",
    "    odometer.append(each)\n",
    "    \n",
    "autos[\"odometer\"] = odometer\n",
    "autos[\"odometer\"] = autos[\"odometer\"].astype(int)\n",
    "\n",
    "autos.rename({\"odometer\":\"odometer_km\"}, axis=1, inplace=True)\n",
    "\n",
    "autos[\"odometer_km\"].head()"
   ]
  },
  {
   "cell_type": "markdown",
   "metadata": {},
   "source": [
    "# explorando `price`, `odometer_km` mais afundo\n",
    "\n",
    "vamos checar em cada coluna se ha algum row de dado anómolo que pode ser droppado.\n",
    "\n",
    "analizamos as culunas usando valores minimos e maximo e procurando por qualquer valor que parece irrealistico alto ou baixo(outliers) que possamos querer remover.\n",
    "\n",
    "\n"
   ]
  },
  {
   "cell_type": "code",
   "execution_count": null,
   "metadata": {},
   "outputs": [],
   "source": [
    "autos[\"price\"].describe().apply(lambda x: format(x, \"f\"))"
   ]
  },
  {
   "cell_type": "code",
   "execution_count": null,
   "metadata": {},
   "outputs": [],
   "source": [
    "# price column\n",
    "\n",
    "autos[\"price\"].value_counts().sort_index(ascending=True).head(20)\n"
   ]
  },
  {
   "cell_type": "code",
   "execution_count": null,
   "metadata": {},
   "outputs": [],
   "source": [
    "autos[\"price\"].value_counts().sort_index(ascending=False).head(20)"
   ]
  },
  {
   "cell_type": "code",
   "execution_count": null,
   "metadata": {},
   "outputs": [],
   "source": [
    "autos[\"price\"].value_counts(bins=4)"
   ]
  },
  {
   "cell_type": "markdown",
   "metadata": {},
   "source": [
    "no topo dos valores da coluna `price` temos valores acima de 1 milhao, enquanto no final a diferença é muito grande com valores apartir de 0. um dos motivos de preços tao abaixo da media é que alguns desses carros sao para leiloes, e outro é que o preço indica uma negociacao para definir o preço final. \n",
    "\n",
    "para prevenir que esses valores nao inclinem os dados, vamos remover as entradas de preços abaixo de 100 e maiores que 350.000."
   ]
  },
  {
   "cell_type": "code",
   "execution_count": null,
   "metadata": {},
   "outputs": [],
   "source": [
    "autos\n",
    "autos = autos[autos[\"price\"].between(100,350001)]\n",
    "autos"
   ]
  },
  {
   "cell_type": "markdown",
   "metadata": {},
   "source": [
    "oque antes era 50000 entradas diminuimos em mais ou menos 3,55%, agora temos 48224 entradas. "
   ]
  },
  {
   "cell_type": "code",
   "execution_count": null,
   "metadata": {},
   "outputs": [],
   "source": [
    "# odometer_km\n",
    "autos[\"odometer_km\"].shape"
   ]
  },
  {
   "cell_type": "code",
   "execution_count": null,
   "metadata": {},
   "outputs": [],
   "source": [
    "autos[\"odometer_km\"].describe()"
   ]
  },
  {
   "cell_type": "code",
   "execution_count": null,
   "metadata": {},
   "outputs": [],
   "source": [
    "autos[\"odometer_km\"].value_counts().sort_index(ascending=True).head(15)"
   ]
  },
  {
   "cell_type": "markdown",
   "metadata": {},
   "source": [
    "na coluna `odometer_km` como analizamos a cima os valores tem padroes, nao é qualquer valor especifico que pode ser inserido, isso é otimo pois nos da uma media melhor e como os valores em uma distribuicao ate que ok, não vejo nececissade de remover outliers nessa coluna. "
   ]
  },
  {
   "cell_type": "markdown",
   "metadata": {},
   "source": [
    "# explorando as colunas de data\n",
    "\n",
    "5 colunas representam valores de datas, sendo elas: \n",
    "* `date_crawled`\n",
    "* `last_seen`\n",
    "* `ad_created`\n",
    "* `registration_month`\n",
    "* `registration_year`\n",
    "\n",
    "no momento as colunas `date_crawled`, `last_seen`, e `ad_created` estao identificadas como strings no pandas. vamos transformar para uma representacao numerica para que possamos entender quantitativamente.\n",
    "\n",
    "as outras duas colunas estao representadsas com valores numericos. \n"
   ]
  },
  {
   "cell_type": "code",
   "execution_count": null,
   "metadata": {},
   "outputs": [],
   "source": [
    "autos[[\"date_crawled\",\"ad_created\",\"last_seen\"]][0:5]"
   ]
  },
  {
   "cell_type": "markdown",
   "metadata": {},
   "source": [
    "os primeiros 10 caracteres representam o dia. para entender o range das datas, podemos extrair apenas os valores do dia, usando `Series.value_counts()` para gerar uma distribuicao, e ai ordenar pelo index."
   ]
  },
  {
   "cell_type": "code",
   "execution_count": null,
   "metadata": {},
   "outputs": [],
   "source": [
    "# date_crawled\n",
    "\n",
    "print(autos[\"date_crawled\"].str[:10].unique().shape)\n",
    "\n",
    "date_crawled = pd.to_datetime(autos[\"date_crawled\"].str[:10])\n",
    "\n",
    "date_crawled.value_counts(normalize=True,dropna=False).sort_index(ascending=True)"
   ]
  },
  {
   "cell_type": "code",
   "execution_count": null,
   "metadata": {},
   "outputs": [],
   "source": [
    "# ad_created\n",
    "print(autos[\"ad_created\"].str[:10].unique().shape)\n",
    "\n",
    "ad_created = pd.to_datetime(autos[\"ad_created\"].str[0:10])\n",
    "ad_created.value_counts(normalize=True,dropna=False).sort_index(ascending=True)"
   ]
  },
  {
   "cell_type": "markdown",
   "metadata": {},
   "source": [
    "a coluna `ad_created` tem datas de mais de um ano de diferença e quase o o dobro do numero de entradas em relacao a coluna `date_crawled`, essa coluna tem uma porcentagem muito pequenas nas maioras para as maiorias das datas."
   ]
  },
  {
   "cell_type": "code",
   "execution_count": null,
   "metadata": {},
   "outputs": [],
   "source": [
    "# last_seen\n",
    "print(autos[\"last_seen\"].str[:10].unique().shape)\n",
    "\n",
    "last_seen = pd.to_datetime(autos[\"last_seen\"].str[0:10])\n",
    "\n",
    "autos[\"last_seen\"] = last_seen\n",
    "\n",
    "last_seen.value_counts(normalize=True,dropna=False).sort_index(ascending=True)\n",
    "\n"
   ]
  },
  {
   "cell_type": "markdown",
   "metadata": {},
   "source": [
    "os dados da `last_seen` nos mostra que a uma boa parte dos dados estao concentrado nas ultimas 3 datas. `last_seen` se refere aos anuncios que foram retirados do site, seja por motivo de venda ou ter sido retirado. nao é como se nos ultimos 3 dias tivesse um aumento na venda, mas sim os crawlers apenas viram que carros foram removidos nessa data.  "
   ]
  },
  {
   "cell_type": "markdown",
   "metadata": {},
   "source": [
    "# explorando dados do `registration_year`"
   ]
  },
  {
   "cell_type": "code",
   "execution_count": null,
   "metadata": {},
   "outputs": [],
   "source": [
    "autos[\"registration_year\"].describe()"
   ]
  },
  {
   "cell_type": "markdown",
   "metadata": {},
   "source": [
    "o ano que o carro esta registrado geralmente indica em que ano ele foi produzido. o valor minimo é 1000, bem antes dos carros serem iventados, e o maximo é 9999 muito anos a frente. "
   ]
  },
  {
   "cell_type": "code",
   "execution_count": null,
   "metadata": {},
   "outputs": [],
   "source": [
    "autos[\"registration_year\"].value_counts().sort_index(ascending=True).head(20)"
   ]
  },
  {
   "cell_type": "markdown",
   "metadata": {},
   "source": [
    " `registration_year` qualquer veiculo com o ano de fabricacao depois de 2016 é totalmente impreciso. determinar um ano de partida é um pouco mais incerto. \n",
    " * vamos usar como parametro os carros com data de fabricacão entre 1950-2016."
   ]
  },
  {
   "cell_type": "code",
   "execution_count": null,
   "metadata": {},
   "outputs": [],
   "source": [
    "autos = autos[autos[\"registration_year\"].between(1949,2017)]"
   ]
  },
  {
   "cell_type": "code",
   "execution_count": null,
   "metadata": {},
   "outputs": [],
   "source": [
    "autos[\"registration_year\"].value_counts(normalize=True, bins=5).sort_index(ascending=True)"
   ]
  },
  {
   "cell_type": "markdown",
   "metadata": {},
   "source": [
    "a maioria dos carros tem o ano de fabricacao entre 1990-2002 com 48% ou 2003-2016 tambem com 48%. \n",
    "\n"
   ]
  },
  {
   "cell_type": "markdown",
   "metadata": {},
   "source": [
    "# explorando carros pela marca\n",
    "\n",
    "vamos analizar a media de preços para as marcas com mais presença no data set"
   ]
  },
  {
   "cell_type": "code",
   "execution_count": null,
   "metadata": {},
   "outputs": [],
   "source": [
    "autos[\"brand\"].value_counts().index"
   ]
  },
  {
   "cell_type": "code",
   "execution_count": null,
   "metadata": {},
   "outputs": [],
   "source": [
    "autos[\"brand\"].value_counts(normalize=True)"
   ]
  },
  {
   "cell_type": "markdown",
   "metadata": {},
   "source": [
    "vamos selecionar as marcas com no minimo 2,5% de carros de todo data set."
   ]
  },
  {
   "cell_type": "code",
   "execution_count": null,
   "metadata": {},
   "outputs": [],
   "source": [
    "brand = autos[\"brand\"].value_counts(normalize=True)\n",
    "\n",
    "select_brand = brand[brand > 0.050].index\n",
    "\n",
    "\n",
    "price_dict = {}\n",
    "\n",
    "for each in select_brand:\n",
    "    brand_row = autos[autos[\"brand\"]== each]\n",
    "    mean = brand_row[\"price\"].mean()\n",
    "    price_dict[each] = int(mean)\n",
    "    \n",
    "    \n",
    "####\n",
    "    \n",
    "print(\"\\n\")\n",
    "sort_orders = sorted(price_dict.items(), key=lambda x: x[1], reverse=True)\n",
    "\n",
    "for i in sort_orders:\n",
    "    print(i[0], i[1])"
   ]
  },
  {
   "cell_type": "markdown",
   "metadata": {},
   "source": [
    "## explorando quilometros rodados pelas marcas mais dominantes "
   ]
  },
  {
   "cell_type": "code",
   "execution_count": null,
   "metadata": {},
   "outputs": [],
   "source": [
    "mil_dict={}\n",
    "    \n",
    "for each in select_brand:\n",
    "    miles = autos[autos[\"brand\"]==each][[\"odometer_km\"]].mean()\n",
    "    mil_dict[each]=int(miles)\n",
    "    \n",
    "mil_dict"
   ]
  },
  {
   "cell_type": "code",
   "execution_count": null,
   "metadata": {},
   "outputs": [],
   "source": [
    "miles_series = pd.Series(mil_dict)\n",
    "price_series = pd.Series(price_dict)\n",
    "\n",
    "price_series.describe()"
   ]
  },
  {
   "cell_type": "code",
   "execution_count": null,
   "metadata": {},
   "outputs": [],
   "source": [
    "miles_series.describe()"
   ]
  },
  {
   "cell_type": "code",
   "execution_count": null,
   "metadata": {},
   "outputs": [],
   "source": [
    "dataframe = pd.DataFrame(price_series,columns=[\"mean_prices\"])\n",
    "dataframe[\"mean_miles\"] = miles_series\n",
    "\n",
    "dataframe.sort_values(by=['mean_prices'], ascending=False)\n",
    "\n",
    "autos.columns"
   ]
  },
  {
   "cell_type": "markdown",
   "metadata": {},
   "source": [
    "para as 6 marcas de maior numero nesse data set temos: \n",
    "\n",
    "* a media de preços: 6383 e com uma variacao de 6303 entre os valores minimos e maximos. \n",
    "\n",
    "* a media de quilometros rodados: 129409.66 Km, e com pouca variacao entre os extremos.\n",
    "\n",
    "a relacao entre preco e quilometros rodados sugerem valores inversamente propocionais, mas as marcas `ford` e  `opel` nostrazem dados questionaveis, para verificar melhor veremos a condicao do carro como mais um fator que deve impactar nos preços\n"
   ]
  }
 ],
 "metadata": {
  "kernelspec": {
   "display_name": "Python 3",
   "language": "python",
   "name": "python3"
  },
  "language_info": {
   "codemirror_mode": {
    "name": "ipython",
    "version": 3
   },
   "file_extension": ".py",
   "mimetype": "text/x-python",
   "name": "python",
   "nbconvert_exporter": "python",
   "pygments_lexer": "ipython3",
   "version": "3.8.8"
  }
 },
 "nbformat": 4,
 "nbformat_minor": 2
}
